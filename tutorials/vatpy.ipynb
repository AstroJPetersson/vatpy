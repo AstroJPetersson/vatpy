{
 "cells": [
  {
   "cell_type": "code",
   "execution_count": null,
   "id": "5d6b5545-2e9e-43f6-bf89-2eb3fd16e0b8",
   "metadata": {},
   "outputs": [],
   "source": [
    "import os\n",
    "import sys\n",
    "import importlib\n",
    "import numpy as np\n",
    "import h5py\n",
    "import matplotlib as mpl\n",
    "import matplotlib.pyplot as plt\n",
    "import cmasher as cmr\n",
    "\n",
    "from pathlib import Path\n",
    "from scipy.interpolate import NearestNDInterpolator\n",
    "from scipy.ndimage import gaussian_filter\n",
    "from labellines import labelLine, labelLines\n",
    "%matplotlib inline\n",
    "\n",
    "import vatpy as vt\n",
    "\n",
    "# Matplotlib style:\n",
    "plt.style.use(f'{Path.home()}/vatpy/mpl/fancy.mplstyle')"
   ]
  },
  {
   "cell_type": "code",
   "execution_count": null,
   "id": "52aa2750-4ff3-496c-96c8-44ea56b165fc",
   "metadata": {},
   "outputs": [],
   "source": [
    "import vatpy as vt\n",
    "%matplotlib widget"
   ]
  },
  {
   "cell_type": "code",
   "execution_count": null,
   "id": "89d1cdbe-dce1-45ad-bff2-bde42cb8dc26",
   "metadata": {},
   "outputs": [],
   "source": [
    "file = '/srv/astro/projects/zoom/jpeterss/accretion/dwarf/highres/h1b4_SNRT/OUTPUT/snap_300.hdf5'\n",
    "tp = vt.TerminalPlot(file=file, style='fancy', unitlength='kpc')"
   ]
  },
  {
   "cell_type": "code",
   "execution_count": null,
   "id": "e9f6e67b-90eb-472f-a4ba-174265ffba2a",
   "metadata": {},
   "outputs": [],
   "source": [
    "tp.density(box=(48, 52), bins=100, axis='x', rotate=90)"
   ]
  },
  {
   "cell_type": "code",
   "execution_count": null,
   "id": "8cb45e16-f2ce-4f96-becd-40f7b891159e",
   "metadata": {},
   "outputs": [],
   "source": [
    "tp.darkmatter(box=(48, 52), bins=150)"
   ]
  },
  {
   "cell_type": "code",
   "execution_count": null,
   "id": "0962a553-da95-427a-90fd-56d934d6fd4c",
   "metadata": {},
   "outputs": [],
   "source": [
    "t.density(box=(-20, 20), bins=200, blackholefocus=True, )"
   ]
  },
  {
   "cell_type": "code",
   "execution_count": null,
   "id": "b8118e3f-99c5-4ede-8acb-1c4b24f69291",
   "metadata": {},
   "outputs": [],
   "source": [
    "tp.star_formation(box=(48, 52), bins=200, axis='x', rotate=90)"
   ]
  },
  {
   "cell_type": "code",
   "execution_count": null,
   "id": "31a82001-98ec-4440-9303-11853a36ed53",
   "metadata": {},
   "outputs": [],
   "source": [
    "tp.black_hole_evolution(vcr=True)"
   ]
  },
  {
   "cell_type": "code",
   "execution_count": null,
   "id": "3954de1c-ba2f-4e7a-84fd-1dcbe00dde50",
   "metadata": {},
   "outputs": [],
   "source": [
    "file = '/srv/astro/projects/zoom/jpeterss/accretion/dwarf/highres/h1b4_SNRT/OUTPUT/snap_300.hdf5'\n",
    "quantity = ['mass', 'HI', 'HII', 'H2', 'e', 'n']\n",
    "im = vp.get_image_data(file=file, box=(48, 52), quantity=quantity)"
   ]
  },
  {
   "cell_type": "code",
   "execution_count": null,
   "id": "ecc01eca-dc87-4e4d-a9ad-4676808b5f6f",
   "metadata": {},
   "outputs": [],
   "source": [
    "im.keys()"
   ]
  },
  {
   "cell_type": "code",
   "execution_count": null,
   "id": "3afe7867-aecb-4670-9983-917e086df119",
   "metadata": {},
   "outputs": [],
   "source": [
    "fig, ax = plt.subplots(2, 3, figsize=(12, 6), sharex=True, sharey=True, layout='constrained')\n",
    "\n",
    "cb = ax[0,0].imshow(np.log10(im['mass']))\n",
    "fig.colorbar(cb, ax=ax[0,0])\n",
    "\n",
    "cb = ax[0,1].imshow(np.log10(im['HI']))\n",
    "fig.colorbar(cb, ax=ax[0,1])\n",
    "\n",
    "cb = ax[0,2].imshow(np.log10(im['HII']))\n",
    "fig.colorbar(cb, ax=ax[0,2])\n",
    "\n",
    "cb = ax[1,0].imshow(np.log10(im['H2']))\n",
    "fig.colorbar(cb, ax=ax[1,0])\n",
    "\n",
    "cb = ax[1,1].imshow(np.log10(im['e']))\n",
    "fig.colorbar(cb, ax=ax[1,1])\n",
    "\n",
    "cb = ax[1,2].imshow(np.log10(im['n']))\n",
    "fig.colorbar(cb, ax=ax[1,2])\n",
    "\n",
    "plt.show()"
   ]
  },
  {
   "cell_type": "code",
   "execution_count": null,
   "id": "1d1fac37-146e-4c4c-b45e-35721560f2d2",
   "metadata": {},
   "outputs": [],
   "source": []
  }
 ],
 "metadata": {
  "kernelspec": {
   "display_name": "Python 3 (ipykernel)",
   "language": "python",
   "name": "python3"
  },
  "language_info": {
   "codemirror_mode": {
    "name": "ipython",
    "version": 3
   },
   "file_extension": ".py",
   "mimetype": "text/x-python",
   "name": "python",
   "nbconvert_exporter": "python",
   "pygments_lexer": "ipython3",
   "version": "3.9.6"
  }
 },
 "nbformat": 4,
 "nbformat_minor": 5
}
