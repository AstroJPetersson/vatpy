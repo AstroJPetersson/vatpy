{
 "cells": [
  {
   "cell_type": "markdown",
   "id": "23e6722b-7021-4389-9d76-b4293dc5e3fa",
   "metadata": {},
   "source": [
    "# Vatpy Tutorial 1 - How to use TerminalPlot in Jupyter Notebooks"
   ]
  },
  {
   "cell_type": "code",
   "execution_count": 7,
   "id": "6590931b-5b8a-4925-bb94-26a4696d61b3",
   "metadata": {
    "execution": {
     "iopub.execute_input": "2025-04-17T13:50:14.119282Z",
     "iopub.status.busy": "2025-04-17T13:50:14.118858Z",
     "iopub.status.idle": "2025-04-17T13:50:14.122476Z",
     "shell.execute_reply": "2025-04-17T13:50:14.122040Z",
     "shell.execute_reply.started": "2025-04-17T13:50:14.119262Z"
    }
   },
   "outputs": [],
   "source": [
    "import numpy as np\n",
    "import matplotlib.pyplot as plt\n",
    "# for interactive plots, use widget instead of inline\n",
    "%matplotlib inline\n",
    "\n",
    "# import vatpy\n",
    "import vatpy as vp"
   ]
  },
  {
   "cell_type": "code",
   "execution_count": null,
   "id": "40de324c-ae8a-4eb7-8654-e95657cfa0c0",
   "metadata": {},
   "outputs": [],
   "source": []
  },
  {
   "cell_type": "code",
   "execution_count": null,
   "id": "3164f4e0-acf5-4009-b9a3-1fd22113ec71",
   "metadata": {},
   "outputs": [],
   "source": []
  }
 ],
 "metadata": {
  "kernelspec": {
   "display_name": "Python 3 (ipykernel)",
   "language": "python",
   "name": "python3"
  },
  "language_info": {
   "codemirror_mode": {
    "name": "ipython",
    "version": 3
   },
   "file_extension": ".py",
   "mimetype": "text/x-python",
   "name": "python",
   "nbconvert_exporter": "python",
   "pygments_lexer": "ipython3",
   "version": "3.9.6"
  }
 },
 "nbformat": 4,
 "nbformat_minor": 5
}
